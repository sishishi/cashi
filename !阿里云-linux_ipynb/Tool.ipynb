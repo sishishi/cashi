{
 "cells": [
  {
   "cell_type": "markdown",
   "id": "74a0c80c-2b5c-4451-ac45-db4cadcdb011",
   "metadata": {
    "jp-MarkdownHeadingCollapsed": true,
    "tags": []
   },
   "source": [
    "## 文件浏览器"
   ]
  },
  {
   "cell_type": "code",
   "execution_count": 7,
   "id": "a514f20c-3342-4dd4-b7cc-e7cfe6d49125",
   "metadata": {
    "execution": {
     "iopub.execute_input": "2023-07-25T17:07:31.527626Z",
     "iopub.status.busy": "2023-07-25T17:07:31.527215Z",
     "iopub.status.idle": "2023-07-25T17:08:08.942363Z",
     "shell.execute_reply": "2023-07-25T17:08:08.941690Z",
     "shell.execute_reply.started": "2023-07-25T17:07:31.527605Z"
    },
    "tags": []
   },
   "outputs": [
    {
     "name": "stdout",
     "output_type": "stream",
     "text": [
      "==========ImJoy elFinder server is running=========\n",
      "http://127.0.0.1:8076\n",
      "\n",
      "^C\n"
     ]
    }
   ],
   "source": [
    "# 安装imjoy-elfinder（web文件浏览器）依赖\n",
    "!sudo apt-get update > /dev/null 2>&1 \n",
    "!sudo apt-get install -y python3-pip  > /dev/null 2>&1 \n",
    "!sudo apt-get install -y libfuse-dev  > /dev/null 2>&1 \n",
    "!pip3 install imjoy-elfinder         > /dev/null 2>&1 \n",
    "# 启动imjoy-elfinder服务\n",
    "!imjoy-elfinder --root-dir=/mnt/workspace/ --port=8076  "
   ]
  },
  {
   "cell_type": "markdown",
   "id": "0d70ef1a-d96f-4423-8ec6-3faff659b3e4",
   "metadata": {
    "tags": []
   },
   "source": [
    "## github-zip插件文件自动安装至SD"
   ]
  },
  {
   "cell_type": "code",
   "execution_count": 1,
   "id": "6ae72fea-d127-44d3-8c57-c7ffead99800",
   "metadata": {
    "ExecutionIndicator": {
     "show": false
    },
    "execution": {
     "iopub.execute_input": "2023-08-27T11:37:26.326721Z",
     "iopub.status.busy": "2023-08-27T11:37:26.326312Z",
     "iopub.status.idle": "2023-08-27T11:37:26.339630Z",
     "shell.execute_reply": "2023-08-27T11:37:26.338943Z",
     "shell.execute_reply.started": "2023-08-27T11:37:26.326696Z"
    },
    "tags": []
   },
   "outputs": [],
   "source": [
    "import zipfile\n",
    "\n",
    "with zipfile.ZipFile('zip全名', 'r') as zip_ref:\n",
    "    zip_ref.extractall('/mnt/workspace/stable-diffusion-webui/extensions')"
   ]
  },
  {
   "cell_type": "markdown",
   "id": "78238631-f6c9-493d-9fa6-bff997a10479",
   "metadata": {
    "jp-MarkdownHeadingCollapsed": true,
    "tags": []
   },
   "source": [
    "## 单文件下载"
   ]
  },
  {
   "cell_type": "code",
   "execution_count": null,
   "id": "4c043379-dd16-4eb6-b8b4-789718607f71",
   "metadata": {},
   "outputs": [],
   "source": [
    "def aria2(url, filename, d):\n",
    "    !aria2c --console-log-level=error -c -x 16 -s 16 {url} -o {filename} -d {d}\n",
    "\n",
    "model_url = '\"https://liblibai-online.liblibai.com/web/model/fbd0ba3424f804d1c3a7fe8a56c1de19b5ebb62732f3f4ad2b3a007a109a44b7.safetensors?attname=manmarumix_v1.0.safetensors\"'\n",
    "aria2(model_url, \"manmarumix_v1.0.safetensors\", \"/mnt/workspace/stable-diffusion-webui/models/Stable-diffusion\")"
   ]
  },
  {
   "cell_type": "markdown",
   "id": "743b65de-ee1d-4226-9a66-e5f06f4920e4",
   "metadata": {
    "jp-MarkdownHeadingCollapsed": true,
    "tags": []
   },
   "source": [
    "## 多文件下载"
   ]
  },
  {
   "cell_type": "code",
   "execution_count": null,
   "id": "c885514c-d18b-4752-86a1-5f788834a22c",
   "metadata": {},
   "outputs": [],
   "source": [
    "def aria2(url, filename, d):\n",
    "    !aria2c --console-log-level=error -c -x 16 -s 16 {url} -o {filename} -d {d}\n",
    "\n",
    "model_urls = \"\"\"\n",
    "  https://huggingface.co/lllyasviel/ControlNet-v1-1/resolve/main/control_v11e_sd15_ip2p.pth\n",
    "  https://huggingface.co/lllyasviel/ControlNet-v1-1/resolve/main/control_v11e_sd15_shuffle.pth\n",
    "  https://huggingface.co/lllyasviel/ControlNet-v1-1/resolve/main/control_v11f1e_sd15_tile.pth\n",
    "  https://huggingface.co/lllyasviel/ControlNet-v1-1/resolve/main/control_v11f1p_sd15_depth.pth\n",
    "  https://huggingface.co/lllyasviel/ControlNet-v1-1/resolve/main/control_v11p_sd15_canny.pth\n",
    "  https://huggingface.co/lllyasviel/ControlNet-v1-1/resolve/main/control_v11p_sd15_inpaint.pth\n",
    "  https://huggingface.co/lllyasviel/ControlNet-v1-1/resolve/main/control_v11p_sd15_lineart.pth\n",
    "  https://huggingface.co/lllyasviel/ControlNet-v1-1/resolve/main/control_v11p_sd15_mlsd.pth\n",
    "  https://huggingface.co/lllyasviel/ControlNet-v1-1/resolve/main/control_v11p_sd15_normalbae.pth\n",
    "  https://huggingface.co/lllyasviel/ControlNet-v1-1/resolve/main/control_v11p_sd15_openpose.pth\n",
    "  https://huggingface.co/lllyasviel/ControlNet-v1-1/resolve/main/control_v11p_sd15_scribble.pth\n",
    "  https://huggingface.co/lllyasviel/ControlNet-v1-1/resolve/main/control_v11p_sd15_seg.pth\n",
    "  https://huggingface.co/lllyasviel/ControlNet-v1-1/resolve/main/control_v11p_sd15_softedge.pth\n",
    "  https://huggingface.co/lllyasviel/ControlNet-v1-1/resolve/main/control_v11p_sd15s2_lineart_anime.pth\n",
    "\"\"\"\n",
    "\n",
    "models = model_urls.strip().split(\"\\n\")\n",
    "\n",
    "for e in models:\n",
    "    aria2(e, e.split(\"/\")[-1], \"/mnt/workspace/stable-diffusion-webui/models/ControlNet\")"
   ]
  },
  {
   "cell_type": "markdown",
   "id": "2ee85151-ee0e-48c8-97ae-661339b01703",
   "metadata": {
    "jp-MarkdownHeadingCollapsed": true,
    "tags": []
   },
   "source": [
    "## 删除所有SD输出图"
   ]
  },
  {
   "cell_type": "code",
   "execution_count": null,
   "id": "dde6003e-0524-4e67-96d5-c86d7c83508b",
   "metadata": {},
   "outputs": [],
   "source": [
    "import os\n",
    "import shutil\n",
    "\n",
    "folder_path = '/mnt/workspace/stable-diffusion-webui/outputs'\n",
    "for filename in os.listdir(folder_path):\n",
    "    file_path = os.path.join(folder_path, filename)\n",
    "    try:\n",
    "        if os.path.isfile(file_path) or os.path.islink(file_path):\n",
    "            os.unlink(file_path)\n",
    "        elif os.path.isdir(file_path):\n",
    "            shutil.rmtree(file_path)\n",
    "    except Exception as e:\n",
    "        print(f'Failed to delete {file_path}. Reason: {e}')"
   ]
  },
  {
   "cell_type": "markdown",
   "id": "2e516e9a-e4c0-4c4e-865e-aa8eb72488b9",
   "metadata": {
    "jp-MarkdownHeadingCollapsed": true,
    "tags": []
   },
   "source": [
    "## 删除文件夹"
   ]
  },
  {
   "cell_type": "code",
   "execution_count": null,
   "id": "911b613d-6ee6-428b-9365-32ea7bddf914",
   "metadata": {},
   "outputs": [],
   "source": [
    "import os\n",
    "import shutil\n",
    "\n",
    "folder_path = '/mnt/workspace/kohya_ss'\n",
    "try:\n",
    "    shutil.rmtree(folder_path)\n",
    "except Exception as e:\n",
    "    print(f'Failed to delete {folder_path}. Reason: {e}')"
   ]
  },
  {
   "cell_type": "markdown",
   "id": "8504c34b-4b0b-4112-8907-58ac55625082",
   "metadata": {
    "tags": []
   },
   "source": [
    "## 查看云盘大小"
   ]
  },
  {
   "cell_type": "code",
   "execution_count": 5,
   "id": "4ac2ffab-ebfc-477d-b06b-fee77722c3e9",
   "metadata": {
    "ExecutionIndicator": {
     "show": true
    },
    "execution": {
     "iopub.execute_input": "2023-08-27T11:43:02.174162Z",
     "iopub.status.busy": "2023-08-27T11:43:02.173761Z",
     "iopub.status.idle": "2023-08-27T11:43:02.193494Z",
     "shell.execute_reply": "2023-08-27T11:43:02.192792Z",
     "shell.execute_reply.started": "2023-08-27T11:43:02.174140Z"
    },
    "tags": []
   },
   "outputs": [
    {
     "name": "stdout",
     "output_type": "stream",
     "text": [
      "云盘已用 5.19 GB\n"
     ]
    }
   ],
   "source": [
    "import os\n",
    "\n",
    "def get_folder_size(folder_path):\n",
    "    total_size = 0\n",
    "    for dirpath, dirnames, filenames in os.walk(folder_path):\n",
    "        for f in filenames:\n",
    "            fp = os.path.join(dirpath, f)\n",
    "            total_size += os.path.getsize(fp)\n",
    "    if total_size < 1024 * 1024 * 999:\n",
    "        return f'{total_size / (1024 * 1024):.2f} MB'\n",
    "    else:\n",
    "        return f'{total_size / (1024 * 1024 * 1024):.2f} GB'\n",
    "\n",
    "folder_path = '/mnt/workspace/'\n",
    "print(f'云盘已用 {get_folder_size(folder_path)}')"
   ]
  }
 ],
 "metadata": {
  "kernelspec": {
   "display_name": "Python 3 (ipykernel)",
   "language": "python",
   "name": "python3"
  },
  "language_info": {
   "codemirror_mode": {
    "name": "ipython",
    "version": 3
   },
   "file_extension": ".py",
   "mimetype": "text/x-python",
   "name": "python",
   "nbconvert_exporter": "python",
   "pygments_lexer": "ipython3",
   "version": "3.10.6"
  }
 },
 "nbformat": 4,
 "nbformat_minor": 5
}
