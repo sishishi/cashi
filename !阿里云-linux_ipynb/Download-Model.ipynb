{
 "cells": [
  {
   "cell_type": "markdown",
   "id": "6b90377a-30c8-42d9-9a63-ec3fde0ac76c",
   "metadata": {
    "jp-MarkdownHeadingCollapsed": true,
    "tags": []
   },
   "source": [
    "## 大模型（Stable-diffusion）（Checkpoint）下载"
   ]
  },
  {
   "cell_type": "code",
   "execution_count": null,
   "id": "35745ad5-af51-4c71-9dc8-8e8dc6b54658",
   "metadata": {},
   "outputs": [],
   "source": [
    "def aria2(url, filename, d):\n",
    "    !aria2c --console-log-level=error -c -x 16 -s 16 {url} -o {filename} -d {d}\n",
    "\n",
    "model_url = '\"直链\"'\n",
    "aria2(model_url, \"名字+后缀\", \"/mnt/workspace/stable-diffusion-webui/models/Stable-diffusion\")"
   ]
  },
  {
   "cell_type": "markdown",
   "id": "d24a6cbc-7ef8-430b-a6ee-aa57627f1e47",
   "metadata": {
    "jp-MarkdownHeadingCollapsed": true,
    "tags": []
   },
   "source": [
    "## LORA下载"
   ]
  },
  {
   "cell_type": "code",
   "execution_count": null,
   "id": "95e120e7-0a75-4829-b335-7a830a70bb09",
   "metadata": {},
   "outputs": [],
   "source": [
    "def aria2(url, filename, d):\n",
    "    !aria2c --console-log-level=error -c -x 16 -s 16 {url} -o {filename} -d {d}\n",
    "\n",
    "model_url = '\"直链\"'\n",
    "aria2(model_url, \"名字+后缀\", \"/mnt/workspace/stable-diffusion-webui/models/Lora\")"
   ]
  },
  {
   "cell_type": "markdown",
   "id": "468170c7-e316-4b84-8ee5-ec82c161d63b",
   "metadata": {
    "jp-MarkdownHeadingCollapsed": true,
    "tags": []
   },
   "source": [
    "## 嵌入式模型（embeddings）下载"
   ]
  },
  {
   "cell_type": "code",
   "execution_count": null,
   "id": "45573487-41a4-4848-83b6-1de57f49a40c",
   "metadata": {},
   "outputs": [],
   "source": [
    "def aria2(url, filename, d):\n",
    "    !aria2c --console-log-level=error -c -x 16 -s 16 {url} -o {filename} -d {d}\n",
    "\n",
    "model_url = '\"直链\"'\n",
    "aria2(model_url, \"名字+后缀\", \"/mnt/workspace/stable-diffusion-webui/embeddings\")"
   ]
  },
  {
   "cell_type": "markdown",
   "id": "68a7d27f-27ff-4d37-a9f8-e6e5a361a3fb",
   "metadata": {
    "jp-MarkdownHeadingCollapsed": true,
    "tags": []
   },
   "source": [
    "## 超网络模型（hypernetworks）下载"
   ]
  },
  {
   "cell_type": "code",
   "execution_count": null,
   "id": "f19b6a4b-9ecd-4dc7-ad74-f71339f964ac",
   "metadata": {},
   "outputs": [],
   "source": [
    "def aria2(url, filename, d):\n",
    "    !aria2c --console-log-level=error -c -x 16 -s 16 {url} -o {filename} -d {d}\n",
    "\n",
    "model_url = '\"直链\"'\n",
    "aria2(model_url, \"名字+后缀\", \"/mnt/workspacestable-diffusion-webui/models/hypernetworks\")"
   ]
  },
  {
   "cell_type": "markdown",
   "id": "cb942891-c54c-4166-aa3a-2c34699a288c",
   "metadata": {
    "jp-MarkdownHeadingCollapsed": true,
    "tags": []
   },
   "source": [
    "## VAE下载"
   ]
  },
  {
   "cell_type": "code",
   "execution_count": null,
   "id": "57bc32b7-c9ad-4b72-9f4b-e5482884e948",
   "metadata": {},
   "outputs": [],
   "source": [
    "def aria2(url, filename, d):\n",
    "    !aria2c --console-log-level=error -c -x 16 -s 16 {url} -o {filename} -d {d}\n",
    "\n",
    "model_url = '\"直链\"'\n",
    "aria2(model_url, \"名字+后缀\", \"/mnt/workspace/stable-diffusion-webui/models/VAE\")"
   ]
  }
 ],
 "metadata": {
  "kernelspec": {
   "display_name": "Python 3 (ipykernel)",
   "language": "python",
   "name": "python3"
  },
  "language_info": {
   "codemirror_mode": {
    "name": "ipython",
    "version": 3
   },
   "file_extension": ".py",
   "mimetype": "text/x-python",
   "name": "python",
   "nbconvert_exporter": "python",
   "pygments_lexer": "ipython3",
   "version": "3.10.6"
  }
 },
 "nbformat": 4,
 "nbformat_minor": 5
}
