{
 "cells": [
  {
   "cell_type": "markdown",
   "id": "55d62584-41d0-4ba3-8b85-ff10203bbd66",
   "metadata": {
    "tags": []
   },
   "source": [
    "## 作者的话"
   ]
  },
  {
   "cell_type": "markdown",
   "id": "33b38674-2441-4c8b-ae99-75331f6fe8e6",
   "metadata": {},
   "source": [
    ">一开始呢，是看了秋叶的阿里云视频，然后在阿里云进行lora训练，结果总是环境出错，而在当时也没有这样的训练教程出现。\n",
    "\n",
    ">于是我在多方指导的基础上，用低级镜像完成了简化版lora的制作也就是第一个视频，但是效果呢不尽如人意，但是呢却意外的有着不错的播放量，为了不辜负大家的期待，我开始从镜像学起重新制作，但是这个时候，我突然发现了一个问题。\n",
    "\n",
    ">那就是我没有可以和a10或v100与之相配的显卡，那么我要如何制作镜像呢，而这个时候我开始转变思路租阿里云的免费服务器，但是服务器连显卡都没有根本装不上驱动\n",
    "\n",
    ">后来我尝试在机器学习里进行docker的镜像训练，但经过调查运行机器学习的本身便是docker。镜像我是配不出来了，所以我开始利用秋叶的镜像，进行降级测试，解决了出现的大部分问题。完成了上一个最终版，历时近一个月。\n",
    "\n",
    ">而现在呢我根据秋叶最新发布的lora训练一键界面，修改了href之后配置在了阿里云上，进一步提高了界面友好度，感谢赛博佛祖。\n",
    "\n",
    ">在这里感谢支持我的粉丝，和给予我帮助的大佬们，如果大家喜欢还请给我点点关注一键三连。\n",
    "\n",
    ">6月22日最新版"
   ]
  },
  {
   "cell_type": "markdown",
   "id": "5562b34d-2bf7-4dca-b84f-388dade30ca6",
   "metadata": {
    "execution": {
     "iopub.execute_input": "2023-06-22T10:33:21.105121Z",
     "iopub.status.busy": "2023-06-22T10:33:21.104791Z",
     "iopub.status.idle": "2023-06-22T10:33:21.113356Z",
     "shell.execute_reply": "2023-06-22T10:33:21.112632Z",
     "shell.execute_reply.started": "2023-06-22T10:33:21.105102Z"
    },
    "tags": []
   },
   "source": [
    "# **基于Bilibili UP主：[秋葉aaaki]发布的[保姆式LoRA模型一键包文件](https://www.bilibili.com/video/BV1fs4y1x7p2/)**\n",
    "最核心的文件的整合代码均由主要作者[秋葉aaaki](https://github.com/Akegarasu/lora-scripts)完成。\n",
    "开始前**建议阅读**：\n",
    "1.   [保姆式LoRA模型一键包文件](https://www.bilibili.com/video/BV1AL411q7Ub/?spm_id_from=333.337.search-card.all.click&vd_source=e6294619bd5137ea0025a3d001e715a7)\n",
    "2.   [参数心得](https://www.bilibili.com/video/BV1GM411E7vk/)\n",
    "3.   [训练教程](https://www.bilibili.com/video/BV1fs4y1x7p2/?spm_id_from=333.999.0.0)\n",
    "4.   [阿里云部署教程](https://www.bilibili.com/video/BV1fs4y1x7p2/?spm_id_from=333.999.0.0)\n",
    "> 本人只是完成阿里云下的依赖安装，使用的下载源不保证长期有效。本人对python与linux的使用能力有限，代码在各位大佬的指导和WSH032大佬于colab的依赖代码修改下完成，不足部分，有兴趣者可修改并分享。\n",
    "\n",
    "> *--分享的责任与获取的自由*\n",
    "**待解决问题**:\n",
    "\n",
    "> 1.关于数据集的挂载免费领用的教程，我这边没有相应教程如有需要可自行解决\n",
    "\n",
    "> 2.总是有人说觉得阿里云的环境有问题比本地更容易欠拟或者过拟，不知道是少了哪一步。\n",
    "\n",
    "更新内容：\n",
    "已经完成了秋叶于阿里云的web部署，金字塔噪声，分层训练，梯度都可以使用了\n",
    "\n",
    "采用了群友指月的修复代码，现已解决了张量版\n",
    "\n",
    "根据其它群友的意见对代码进行了升级\n",
    "\n",
    "训练包版本为2023年6月22日版\n",
    "\n",
    "已突破抱脸封锁，所有文件均不使用抱脸下载，不会再出现下载失败的情况了，"
   ]
  },
  {
   "cell_type": "markdown",
   "id": "0acc7194-66e2-4556-a910-263ea9ab17b7",
   "metadata": {},
   "source": [
    "## 一、基础依赖和训练包拉取(时间会更长)"
   ]
  },
  {
   "cell_type": "code",
   "execution_count": null,
   "id": "ad9a434f-8e3f-4c3a-89f0-335d19a4364f",
   "metadata": {},
   "outputs": [],
   "source": [
    "#查看是什么GPU\n",
    "!nvidia-smi\n",
    "#安装解压软件和下载存储工具\n",
    "!apt-get update  > /dev/null 2>&1 \n",
    "!apt-get install zip -y > /dev/null 2>&1\n",
    "!apt install -y aria2 > /dev/null 2>&1 \n",
    "#进入根目录\n",
    "%cd /mnt/workspace/\n",
    "#删除先前下载的lora训练文件\n",
    "!mkdir -p /mnt/workspace/lora-scripts/  #防止报错\n",
    "!rm -r /mnt/workspace/lora-scripts/\n",
    "#下载训练文件\n",
    "!cd /mnt/workspace/ && wget -c https://liblibai-online.oss-cn-beijing.aliyuncs.com/web/model/e0921b4a5f3f49fc49b36860d38345c47cb24395161b1aaef71e94c4e7040637.ckpt  -O 1.zip\n",
    "!unzip /mnt/workspace/1.zip -d /mnt/workspace/ > /dev/null 2>&1 && echo 解压成功\n",
    "!sudo rm -r /mnt/workspace/1.zip  > /dev/null 2>&1  && echo 删除压缩包成功\n",
    "#安装依赖\n",
    "!pip -q install torch==2.0.0 torchvision xformers triton    \n",
    "#进入目录\n",
    "%cd /mnt/workspace/lora-scripts/sd-scripts/\n",
    "#安装目录要求依赖\n",
    "!pip -q  install --upgrade -r requirements.txt && echo 安装需求依赖成功\n",
    "#安装训练指示器\n",
    "!pip -q install --upgrade lion-pytorch lycoris-lora dadaptation  && echo 安装训练器成功\n",
    "#进行bitsandbytes的重装\n",
    "!pip uninstall -q bitsandbytes -y > /dev/null 2>&1 && echo 卸载成功\n",
    "!pip install  -q --no-cache-dir bitsandbytes[full] > /dev/null 2>&1    && echo 安装成功"
   ]
  },
  {
   "cell_type": "markdown",
   "id": "aa8ba6cd-ef5c-409a-a8cf-18b6e39f815e",
   "metadata": {
    "tags": []
   },
   "source": [
    "## 二、训练集下载（可自行改变路径）"
   ]
  },
  {
   "cell_type": "code",
   "execution_count": null,
   "id": "11b3a32b-18f3-4847-86a8-613dc04484ae",
   "metadata": {},
   "outputs": [],
   "source": [
    "%cd /mnt/workspace/lora-scripts/ \n",
    "!mkdir -p /mnt/workspace/lora-scripts/train/  #防止首次运行报错生成文件夹\n",
    "!rm -r /mnt/workspace/lora-scripts/train/     #删除测试文件夹\n",
    "!mkdir -p /mnt/workspace/lora-scripts/train/aki #建立下载目录"
   ]
  },
  {
   "cell_type": "markdown",
   "id": "caaf8e7b-5e0d-4541-a55b-12a0f3ceeb99",
   "metadata": {
    "tags": []
   },
   "source": [
    "### 只修改下方链接即可替换数据集"
   ]
  },
  {
   "cell_type": "code",
   "execution_count": null,
   "id": "ad695e1c-7e7c-4a7a-984f-debce56c0460",
   "metadata": {},
   "outputs": [],
   "source": [
    "!cd /mnt/workspace/lora-scripts/train/aki/  && wget -c https://liblibai-online.liblibai.com/web/model/55b62e7b5a3e4c7bff58ae30b32f2f5f31b750d40872302d729230d0904f9c33.safetensors -O 1.zip > /dev/null 2>&1 && echo 下载成功 #下载训练集"
   ]
  },
  {
   "cell_type": "code",
   "execution_count": null,
   "id": "8b5606c6-e783-49fa-a023-a13977a38566",
   "metadata": {},
   "outputs": [],
   "source": [
    "!unzip /mnt/workspace/lora-scripts/train/aki/1.zip -d /mnt/workspace/lora-scripts/train/aki/ > /dev/null 2>&1 && echo 解压成功   #解压训练集压缩包\n",
    "!sudo rm -r /mnt/workspace/lora-scripts/train/aki/1.zip  > /dev/null 2>&1  && echo 删除压缩包成功 #删除训练集压缩包"
   ]
  },
  {
   "cell_type": "markdown",
   "id": "b460fc87-bae2-45fc-9c19-f3280c1efc68",
   "metadata": {
    "tags": []
   },
   "source": [
    "## 三、模型下载（可自行改变路径）"
   ]
  },
  {
   "cell_type": "markdown",
   "id": "7c3deebc-9479-4c53-9027-a4d7b226048d",
   "metadata": {
    "tags": []
   },
   "source": [
    "### 只修改下方链接即可替换底膜"
   ]
  },
  {
   "cell_type": "code",
   "execution_count": null,
   "id": "ebd307c0-2d3a-49aa-915c-655f2d5640c2",
   "metadata": {},
   "outputs": [],
   "source": [
    "!cd /mnt/workspace/lora-scripts/sd-models/ && wget -c  https://liblibai-online.liblibai.com/models/e7e55f800035004cf0ee31d91f874a415a2b64a4.safetensors -O down.safetensors  #下载底部模型"
   ]
  },
  {
   "cell_type": "markdown",
   "id": "fbad6ae8-c9e2-4072-9ca8-9e5ac65c69b6",
   "metadata": {},
   "source": [
    "默认底膜：Chilloutmix-Ni-pruned-fp32-fix\n",
    "https://liblibai-online.liblibai.com/models/e7e55f800035004cf0ee31d91f874a415a2b64a4.safetensors\n",
    "\n",
    "其它底膜链接：\n",
    "\n",
    "majicMIX realistic\n",
    "https://liblibai-online.liblibai.com/web/model/e4a30e4607faeb06b5d590b2ed8e092690c631da0b2becb6224d4bb5327104b7.safetensors\n"
   ]
  },
  {
   "cell_type": "markdown",
   "id": "760e3d08-5086-4f69-9456-8bfb00094ab8",
   "metadata": {},
   "source": [
    "## 四、启动秋葉aaaki的一键式lora训练界面"
   ]
  },
  {
   "cell_type": "code",
   "execution_count": null,
   "id": "dd97efcc-9936-4a23-a084-606822b87d48",
   "metadata": {},
   "outputs": [],
   "source": [
    "%cd /mnt/workspace/lora-scripts    \n",
    "#跳转到UI文件\n",
    "!bash run_gui.sh #界面文件点击127.0。0.0.1即可进入ui"
   ]
  },
  {
   "cell_type": "markdown",
   "id": "9b58b970-149a-4a10-96d2-e39185021395",
   "metadata": {
    "tags": []
   },
   "source": [
    "# **基于Bilibili UP主：[秋葉aaaki]的阿里云webui脚本修改而来**"
   ]
  },
  {
   "cell_type": "markdown",
   "id": "e3ec5891-65eb-4364-aa25-f1eb655d4a49",
   "metadata": {},
   "source": [
    "## 一、webui主体安装"
   ]
  },
  {
   "cell_type": "code",
   "execution_count": null,
   "id": "cbaa06c0-8a40-49c5-af58-195171b12ada",
   "metadata": {},
   "outputs": [],
   "source": [
    "%cd /mnt/workspace/\n",
    "!git clone https://gitcode.net/overbill1683/stable-diffusion-webui\n",
    "%cd stable-diffusion-webui\n",
    "!mkdir repositories\n",
    "%cd repositories\n",
    "!git clone \"https://gitcode.net/overbill1683/stablediffusion\" \"stable-diffusion-stability-ai\"\n",
    "!git clone \"https://gitcode.net/overbill1683/taming-transformers\" \"taming-transformers\"\n",
    "!git clone \"https://gitcode.net/overbill1683/k-diffusion\" \"k-diffusion\"\n",
    "!git clone \"https://gitcode.net/overbill1683/CodeFormer\" \"CodeFormer\"\n",
    "!git clone \"https://gitcode.net/overbill1683/BLIP\" \"BLIP\"\n",
    "%cd /mnt/workspace/stable-diffusion-webui\n",
    "!wget -O \"config.json\" \"https://gitcode.net/Akegarasu/sd-webui-configs/-/raw/master/config.json\""
   ]
  },
  {
   "cell_type": "markdown",
   "id": "083d731d-1007-47d1-b0a0-9a3348135ee6",
   "metadata": {},
   "source": [
    "## 二、webui插件安装（可自行加入或替换插件）"
   ]
  },
  {
   "cell_type": "code",
   "execution_count": null,
   "id": "a560d0f7-421b-4ceb-9c72-f88d94e57b9e",
   "metadata": {},
   "outputs": [],
   "source": [
    "## 安装常用插件\n",
    "extensions = [\n",
    "    \"https://gitcode.net/ranting8323/a1111-sd-webui-tagcomplete\",\n",
    "    \"https://gitcode.net/ranting8323/stable-diffusion-webui-localization-zh_CN\",\n",
    "    \"https://gitcode.net/ranting8323/sd-webui-additional-networks\",\n",
    "]\n",
    "\n",
    "%cd /mnt/workspace/stable-diffusion-webui\n",
    "for e in extensions:\n",
    "    !git -C \"extensions\" clone {e}"
   ]
  },
  {
   "cell_type": "markdown",
   "id": "2a920b24-bed8-4c1a-8ac6-ba446d0d1944",
   "metadata": {
    "execution": {
     "iopub.execute_input": "2023-06-22T10:46:27.501011Z",
     "iopub.status.busy": "2023-06-22T10:46:27.500708Z",
     "iopub.status.idle": "2023-06-22T10:46:27.504540Z",
     "shell.execute_reply": "2023-06-22T10:46:27.503787Z",
     "shell.execute_reply.started": "2023-06-22T10:46:27.500993Z"
    }
   },
   "source": [
    "##   三、底膜和lora移动用于测试（如不想移动可跳过但要自行下载底膜）"
   ]
  },
  {
   "cell_type": "markdown",
   "id": "40fbc3b6-38ba-48df-9d50-bec839e5bf70",
   "metadata": {},
   "source": [
    "###  底膜移动"
   ]
  },
  {
   "cell_type": "code",
   "execution_count": null,
   "id": "7baf352b-caa8-4726-85ac-fee5d16ff62b",
   "metadata": {},
   "outputs": [],
   "source": [
    "#移动底膜到指定文件夹\n",
    "!mv /mnt/workspace/lora-scripts/sd-models/*   /mnt/workspace/stable-diffusion-webui/models/Stable-diffusion/"
   ]
  },
  {
   "cell_type": "markdown",
   "id": "1f66216f-3185-4b32-ae91-85f9494d7184",
   "metadata": {},
   "source": [
    "###  lora移动"
   ]
  },
  {
   "cell_type": "code",
   "execution_count": null,
   "id": "5be60c68-45a4-40f1-8854-fe92fb93ab21",
   "metadata": {},
   "outputs": [],
   "source": [
    "!mv /mnt/workspace/lora-scripts/output/*   /mnt/workspace/stable-diffusion-webui/extensions/sd-webui-additional-networks/models/lora"
   ]
  },
  {
   "cell_type": "markdown",
   "id": "9b39f1ec-8dac-41ec-8c8a-12ef16c406e5",
   "metadata": {},
   "source": [
    "## 四、启动webUI"
   ]
  },
  {
   "cell_type": "code",
   "execution_count": null,
   "id": "d85fb406-c9e3-4792-8812-6420f085e3ea",
   "metadata": {},
   "outputs": [],
   "source": [
    "import os\n",
    "package_envs  = [\n",
    "      {\n",
    "        \"env\": \"GFPGAN_PACKAGE\",\n",
    "        \"url\": \"git+https://gitcode.net/overbill1683/GFPGAN.git@8d2447a2d918f8eba5a4a01463fd48e45126a379\"\n",
    "      },\n",
    "      {\n",
    "        \"env\": \"CLIP_PACKAGE\",\n",
    "        \"url\": \"git+https://gitcode.net/overbill1683/CLIP.git@d50d76daa670286dd6cacf3bcd80b5e4823fc8e1\"\n",
    "      },\n",
    "      {\n",
    "        \"env\": \"OPENCLIP_PACKAGE\",\n",
    "        \"url\": \"git+https://gitcode.net/overbill1683/open_clip.git@bb6e834e9c70d9c27d0dc3ecedeebeaeb1ffad6b\"\n",
    "      }\n",
    "]\n",
    "os.environ[\"PIP_INDEX_URL\"] = \"https://mirrors.aliyun.com/pypi/simple/\"\n",
    "for i in package_envs:\n",
    "    os.environ[i[\"env\"]] = i[\"url\"]\n",
    "%cd /mnt/workspace/stable-diffusion-webui\n",
    "!python launch.py --no-download-sd-model --xformers --share --listen"
   ]
  },
  {
   "cell_type": "markdown",
   "id": "71fb27cf-3966-4a68-8e58-f1d6cbf014d0",
   "metadata": {},
   "source": [
    "# 可选代码"
   ]
  },
  {
   "cell_type": "markdown",
   "id": "b6eeadac-ae40-47e5-9951-16af305ae0b1",
   "metadata": {},
   "source": [
    "## 一、换一个阿里云文件管理ui的方法"
   ]
  },
  {
   "cell_type": "code",
   "execution_count": null,
   "id": "2bbf3224-afb7-4deb-81e8-07fe69deb170",
   "metadata": {
    "tags": []
   },
   "outputs": [],
   "source": [
    "# 安装imjoy-elfinder（web文件浏览器）依赖\n",
    "!sudo apt-get update > /dev/null 2>&1 \n",
    "!sudo apt-get install -y python3-pip  > /dev/null 2>&1 \n",
    "!sudo apt-get install -y libfuse-dev  > /dev/null 2>&1 \n",
    "!pip3 install imjoy-elfinder         > /dev/null 2>&1 \n",
    "# 启动imjoy-elfinder服务\n",
    "!imjoy-elfinder --root-dir=/mnt/workspace/ --port=8076  "
   ]
  },
  {
   "cell_type": "markdown",
   "id": "063485bd-38f1-4379-97dd-3a0e2687fba4",
   "metadata": {},
   "source": [
    "## 二、压缩文件代码用于方便进行下载该代码会将路径下的模型打包至/mnt/workspace/（即可见最表层目录）"
   ]
  },
  {
   "cell_type": "code",
   "execution_count": null,
   "id": "28cc0e8d-fce6-4e7d-8d42-9d7058eb97e3",
   "metadata": {},
   "outputs": [],
   "source": [
    "%cd /mnt/workspace/\n",
    "!tar -zcvf 1.tar.gz /mnt/workspace/lora-scripts/output > /dev/null 2>&1  && echo 压缩训练的lora模型成功"
   ]
  },
  {
   "cell_type": "markdown",
   "id": "576391eb-a4cf-468c-adb5-fb713e019f75",
   "metadata": {},
   "source": [
    "## 三、VAE的下载"
   ]
  },
  {
   "cell_type": "code",
   "execution_count": null,
   "id": "477d7ceb-260f-4572-a84d-679d8491c326",
   "metadata": {},
   "outputs": [],
   "source": [
    "## vae的下载\n",
    "!rm -r /mnt/workspace/lora-scripts/vae/\n",
    "!mkdir -p /mnt/workspace/lora-scripts/vae/\n",
    "!cd /mnt/workspace/lora-scripts/sd-models/ && wget -c  https://huggingface.co/stabilityai/sd-vae-ft-mse-original/resolve/main/vae-ft-mse-840000-ema-pruned.ckpt"
   ]
  },
  {
   "cell_type": "markdown",
   "id": "50738715-7127-40c4-afe3-c7216a06afda",
   "metadata": {},
   "source": [
    "## 四、aria2下载工具(需执行过第一模块的第一板块或单独执行下方两个代码）"
   ]
  },
  {
   "cell_type": "code",
   "execution_count": null,
   "id": "4bc9881d-fc2e-4347-a651-544f2bf5ab06",
   "metadata": {},
   "outputs": [],
   "source": [
    "!apt-get update  > /dev/null 2>&1 \n",
    "!apt install -y aria2 > /dev/null 2>&1 "
   ]
  },
  {
   "cell_type": "markdown",
   "id": "5805c3ca-b31f-48f6-8710-c0fd47c848eb",
   "metadata": {},
   "source": [
    "### 私库下载方式model_url是下载链接位置可自行替换http_user为抱脸用户名http_passwd为抱脸登录密码（做了伪装代理下载成功率提高了）"
   ]
  },
  {
   "cell_type": "code",
   "execution_count": null,
   "id": "e681c907-c22a-49a3-9c10-0511fe6c28c2",
   "metadata": {},
   "outputs": [],
   "source": [
    "def aria2(url, filename, d, http_user=\"\", http_passwd=\"\", user_agent=\"\"):\n",
    "    command = [\n",
    "        \"aria2c\", \"--console-log-level=error\", \"-c\", \"-x 16\", \"-s 16\", url, \"-d\", d, \"-o\", filename\n",
    "    ] + ([\"--http-user=\" + http_user] if http_user else []) + ([\"--http-passwd=\" + http_passwd] if http_passwd else []) + ([\"--user-agent='\" + user_agent + \"'\"] if user_agent else [])\n",
    "    !{\" \".join(command)}\n",
    "# 下面三个替换是你要做的其他的都可以不动\n",
    "\n",
    "model_url = \"\"  # 替换为你要下载的链接\n",
    "\n",
    "http_user = \"\"    # 请将用户名替换为实际的用户名，用户名为你的抱脸用户名\n",
    "\n",
    "http_passwd = \"\"  # 请将密码替换为实际的密码，密码是你的抱脸密码\n",
    "\n",
    "filename = model_url.split(\"/\")[-1]  # 提取文件名部分\n",
    "d = \"/mnt/workspace/lora-scripts/sd-models/\"    # 保存文件地址默认为\"/mnt/workspace/lora-scripts/sd-models/\n",
    "user_agent = \"Mozilla/5.0 (X11; Linux x86_64) AppleWebKit/537.36 (KHTML, like Gecko) Chrome/91.0.4472.124 Safari/537.36\"  # 别动如果你不懂\n",
    "\n",
    "aria2(model_url, filename, d, http_user, http_passwd, user_agent)"
   ]
  },
  {
   "cell_type": "markdown",
   "id": "938ee413-ff37-4f73-ba51-18bef8674d58",
   "metadata": {},
   "source": [
    "### 公库下载方式model_url是底膜下载链接位置可自行替换（做了伪装代理下载成功率提高了）"
   ]
  },
  {
   "cell_type": "code",
   "execution_count": null,
   "id": "2c085488-c887-4547-9f7f-5acac2220b33",
   "metadata": {},
   "outputs": [],
   "source": [
    "def aria2(url, filename, d, http_user=\"\", http_passwd=\"\", user_agent=\"\"):\n",
    "    command = [\n",
    "        \"aria2c\", \"--console-log-level=error\", \"-c\", \"-x 16\", \"-s 16\", url, \"-d\", d, \"-o\", filename\n",
    "    ] + ([\"--user-agent='\" + user_agent + \"'\"] if user_agent else [])\n",
    "    !{\" \".join(command)}\n",
    "\n",
    "model_url = \"\"  # 替换为你要下载的链接\n",
    "filename = model_url.split(\"/\")[-1]  # 提取文件名部分\n",
    "d = \"/mnt/workspace/lora-scripts/sd-models/\"    # 保存文件地址默认为\"/mnt/workspace/lora-scripts/sd-models/\n",
    "user_agent = \"Mozilla/5.0 (X11; Linux x86_64) AppleWebKit/537.36 (KHTML, like Gecko) Chrome/91.0.4472.124 Safari/537.36\"  # 别动如果你不懂\n",
    "\n",
    "aria2(model_url, filename, d, user_agent=user_agent)"
   ]
  }
 ],
 "metadata": {
  "kernelspec": {
   "display_name": "Python 3 (ipykernel)",
   "language": "python",
   "name": "python3"
  },
  "language_info": {
   "codemirror_mode": {
    "name": "ipython",
    "version": 3
   },
   "file_extension": ".py",
   "mimetype": "text/x-python",
   "name": "python",
   "nbconvert_exporter": "python",
   "pygments_lexer": "ipython3",
   "version": "3.10.6"
  }
 },
 "nbformat": 4,
 "nbformat_minor": 5
}
